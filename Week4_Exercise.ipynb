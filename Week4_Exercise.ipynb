{
  "nbformat": 4,
  "nbformat_minor": 0,
  "metadata": {
    "colab": {
      "provenance": [],
      "authorship_tag": "ABX9TyNNUaXQBPtBHVSjQUnBH7bj",
      "include_colab_link": true
    },
    "kernelspec": {
      "name": "python3",
      "display_name": "Python 3"
    },
    "language_info": {
      "name": "python"
    }
  },
  "cells": [
    {
      "cell_type": "markdown",
      "metadata": {
        "id": "view-in-github",
        "colab_type": "text"
      },
      "source": [
        "<a href=\"https://colab.research.google.com/github/FrancescoEmmanuel/L1CC_Lab/blob/main/Week4_Exercise.ipynb\" target=\"_parent\"><img src=\"https://colab.research.google.com/assets/colab-badge.svg\" alt=\"Open In Colab\"/></a>"
      ]
    },
    {
      "cell_type": "markdown",
      "source": [
        "1.Write a function that takes a list of numbers and returns a list of the prime numbers in the list.\n",
        "\n",
        "Requirements:\n",
        "\n",
        "- Define a function that takes a number as input and returns True if the number is prime, and False otherwise.\n",
        "- Define a function that takes a list of numbers as input and returns a list of the prime numbers in the list.\n",
        "\n",
        "Hint:\n",
        "\n",
        "- In the second function, iterate over the list of numbers and call the first function on each number.\n",
        "- If the first function returns True, add the number to the list of prime numbers.\n",
        "- list of prime numbers is returned dusing the second function\n"
      ],
      "metadata": {
        "id": "Q61q2sXLl9aN"
      }
    },
    {
      "cell_type": "code",
      "execution_count": null,
      "metadata": {
        "id": "YSazU2lJl1gb"
      },
      "outputs": [],
      "source": []
    },
    {
      "cell_type": "markdown",
      "source": [
        "2.Write a Python program that checks if a given word or phrase is a palindrome. A palindrome is a word, phrase, or sequence of characters that reads the same forward and backward\n",
        "(Example: 'racecar')"
      ],
      "metadata": {
        "id": "O-QezjcsmR_9"
      }
    },
    {
      "cell_type": "markdown",
      "source": [
        "3."
      ],
      "metadata": {
        "id": "jOvMa83OmTNt"
      }
    }
  ]
}